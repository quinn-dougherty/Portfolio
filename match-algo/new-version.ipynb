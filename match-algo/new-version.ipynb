{
 "cells": [
  {
   "cell_type": "code",
   "execution_count": 1,
   "metadata": {},
   "outputs": [],
   "source": [
    "from scipy.stats import poisson\n",
    "\n",
    "from itertools import product\n",
    "from typing import Tuple, List, Dict, Any\n",
    "from functools import reduce\n",
    "from numpy.random import choice, randint\n",
    "import pandas as pd\n",
    "\n",
    "num_people: int = 150\n",
    "\n",
    "num_projects: int = 25\n",
    "\n",
    "len_prefs: int = 4 # how much preference data do you survey each person for?\n",
    "\n",
    "names_people: List[str] = [a+b for a,b\n",
    "                           in product(\"abcdefghijklmnopqrstuvwxyz\",\n",
    "                                      \"abcdefghijklmnopqrstuvwxyz\")\n",
    "                            ][:num_people] # example names\n",
    "\n",
    "names_projects: List[str] = [c for c\n",
    "                             in \"abcdefghijklmnopqrstuvwxyz\"\n",
    "                            ][:num_projects] # example projects\n",
    "\n",
    "# every person gives a preference vector, we now randomly simulate the survey\n",
    "preferences_ran: Dict[str, List[str]] = {person: list(choice(names_projects, len_prefs)) for person in names_people}\n"
   ]
  },
  {
   "cell_type": "code",
   "execution_count": 51,
   "metadata": {},
   "outputs": [
    {
     "name": "stdout",
     "output_type": "stream",
     "text": [
      "high and dry:  2\n"
     ]
    },
    {
     "data": {
      "text/plain": [
       "0.9422222222222222"
      ]
     },
     "execution_count": 51,
     "metadata": {},
     "output_type": "execute_result"
    }
   ],
   "source": [
    "from random import choice\n",
    "from typing import Optional, List, Any\n",
    "from itertools import product\n",
    "from numpy import divide\n",
    "\n",
    "NUM_PEOPLE: int = 150\n",
    "NUM_PROJECTS: int = 25\n",
    "LEN_PREFS: int = 3\n",
    "PEOPLE_PER_PROJECT: int = NUM_PEOPLE//NUM_PROJECTS \n",
    "ALPHABET = \"ABCDEFGHIJKLMNOPQRSTUVWXYZ\"\n",
    "\n",
    "class Person(str): \n",
    "    def __init__(self, name: str): \n",
    "        ''' currently initializing to random preferences '''\n",
    "        self.name: str = name\n",
    "        self.preferences: List[Project] = [choice(PROJECTS) for _ in range(LEN_PREFS)]\n",
    "        self.assigned: Optional[Project] = None\n",
    "        \n",
    "    def __str__(self):\n",
    "        return self.name\n",
    "    \n",
    "class Project(str): \n",
    "    def __init__(self, proj_name: str, max_staff: int = PEOPLE_PER_PROJECT): \n",
    "        self.proj_name = proj_name\n",
    "        self.max_staff = max_staff\n",
    "        self.staff: List[Person] = []\n",
    "        \n",
    "    def __str__(self):\n",
    "        return self.proj_name\n",
    "    \n",
    "    def add_person(self, name: Person):\n",
    "        if len(self.staff) <= self.max_staff: \n",
    "            self.staff.append(name)\n",
    "            name.assigned = self\n",
    "        else: \n",
    "            pass\n",
    "    \n",
    "\n",
    "PROJECTS: List[Project] = [Project(x) for x in ALPHABET][:NUM_PROJECTS]\n",
    "\n",
    "PEOPLE: List[Person] = [Person(f\"{x[0]}{x[1]}\") for x in product(ALPHABET.lower(), ALPHABET.lower())][:NUM_PEOPLE]\n",
    "\n",
    "x: Person = Person(\"john\")\n",
    "\n",
    "def get_unassigned(people: List[Person]) -> List[Person]: \n",
    "    return [pers for pers in people if not pers.assigned]\n",
    "\n",
    "def assign_to_nth(people: List[Person], n: int): \n",
    "    for pers in get_unassigned(people): \n",
    "        if not pers.assigned: \n",
    "            nth = pers.preferences[n]\n",
    "            nth.add_person(pers)            \n",
    "\n",
    "for k in range(LEN_PREFS): \n",
    "    assign_to_nth(PEOPLE, k)\n",
    "\n",
    "print(\"high and dry: \", len(get_unassigned(PEOPLE)))\n",
    "def _rv_getidx_orzero(x: Any, xs: List[Any]) -> int: \n",
    "    '''idx of first occurence, 0 if not in\n",
    "    '''\n",
    "    if x not in xs: \n",
    "        return 0\n",
    "    else: \n",
    "        for k,v in enumerate(xs[::-1]): \n",
    "            if x==v: \n",
    "                return k + 1\n",
    "\n",
    "\n",
    "def calculate_utility_(person: Person) -> float: \n",
    "    return _rv_getidx_orzero(person.assigned, person.preferences)\n",
    "        \n",
    "def calculate_utility(people: List[Person]) -> float: \n",
    "    return sum([calculate_utility_(pers) for pers in people if calculate_utility_(pers)])\n",
    "\n",
    "divide(divide(calculate_utility(PEOPLE), NUM_PEOPLE), LEN_PREFS)#, LEN_PREFS"
   ]
  },
  {
   "cell_type": "code",
   "execution_count": 15,
   "metadata": {},
   "outputs": [
    {
     "ename": "NameError",
     "evalue": "name 'project' is not defined",
     "output_type": "error",
     "traceback": [
      "\u001b[0;31m---------------------------------------------------------------------------\u001b[0m",
      "\u001b[0;31mNameError\u001b[0m                                 Traceback (most recent call last)",
      "\u001b[0;32m<ipython-input-15-cdb8295c7eae>\u001b[0m in \u001b[0;36m<module>\u001b[0;34m\u001b[0m\n\u001b[0;32m----> 1\u001b[0;31m \u001b[0mx\u001b[0m \u001b[0;34m=\u001b[0m \u001b[0mproject\u001b[0m\u001b[0;34m(\u001b[0m\u001b[0;34m\"pizza\"\u001b[0m\u001b[0;34m)\u001b[0m\u001b[0;34m\u001b[0m\u001b[0m\n\u001b[0m\u001b[1;32m      2\u001b[0m \u001b[0my\u001b[0m \u001b[0;34m=\u001b[0m \u001b[0mperson\u001b[0m\u001b[0;34m(\u001b[0m\u001b[0;34m\"steve\"\u001b[0m\u001b[0;34m)\u001b[0m\u001b[0;34m\u001b[0m\u001b[0m\n\u001b[1;32m      3\u001b[0m \u001b[0mx\u001b[0m\u001b[0;34m.\u001b[0m\u001b[0madd_person\u001b[0m\u001b[0;34m(\u001b[0m\u001b[0my\u001b[0m\u001b[0;34m)\u001b[0m\u001b[0;34m\u001b[0m\u001b[0m\n\u001b[1;32m      4\u001b[0m \u001b[0;34m\u001b[0m\u001b[0m\n\u001b[1;32m      5\u001b[0m \u001b[0mx\u001b[0m\u001b[0;34m.\u001b[0m\u001b[0mstaff\u001b[0m\u001b[0;34m,\u001b[0m \u001b[0my\u001b[0m\u001b[0;34m.\u001b[0m\u001b[0massigned\u001b[0m\u001b[0;34m\u001b[0m\u001b[0m\n",
      "\u001b[0;31mNameError\u001b[0m: name 'project' is not defined"
     ]
    }
   ],
   "source": [
    "x = project(\"pizza\")\n",
    "y = person(\"steve\")\n",
    "x.add_person(y)\n",
    "\n",
    "x.staff, y.assigned"
   ]
  },
  {
   "cell_type": "code",
   "execution_count": 3,
   "metadata": {},
   "outputs": [
    {
     "name": "stdout",
     "output_type": "stream",
     "text": [
      "los\n"
     ]
    }
   ],
   "source": [
    "x = [5,4,3,2]\n"
   ]
  },
  {
   "cell_type": "code",
   "execution_count": null,
   "metadata": {},
   "outputs": [],
   "source": []
  },
  {
   "cell_type": "code",
   "execution_count": 62,
   "metadata": {},
   "outputs": [
    {
     "data": {
      "text/plain": [
       "6"
      ]
     },
     "execution_count": 62,
     "metadata": {},
     "output_type": "execute_result"
    }
   ],
   "source": [
    "\n"
   ]
  },
  {
   "cell_type": "code",
   "execution_count": null,
   "metadata": {},
   "outputs": [],
   "source": []
  },
  {
   "cell_type": "code",
   "execution_count": null,
   "metadata": {},
   "outputs": [],
   "source": []
  },
  {
   "cell_type": "code",
   "execution_count": 42,
   "metadata": {},
   "outputs": [
    {
     "data": {
      "text/plain": [
       "2"
      ]
     },
     "execution_count": 42,
     "metadata": {},
     "output_type": "execute_result"
    }
   ],
   "source": [
    "_rv_getidx_orzero(PEOPLE[4].assigned, PEOPLE[4].preferences)"
   ]
  },
  {
   "cell_type": "code",
   "execution_count": 44,
   "metadata": {},
   "outputs": [
    {
     "data": {
      "text/plain": [
       "('U', ['U', 'V', 'D'])"
      ]
     },
     "execution_count": 44,
     "metadata": {},
     "output_type": "execute_result"
    }
   ],
   "source": [
    "PEOPLE[4].assigned, PEOPLE[4].preferences"
   ]
  },
  {
   "cell_type": "code",
   "execution_count": 68,
   "metadata": {},
   "outputs": [
    {
     "data": {
      "text/plain": [
       "[['be', 'bo', 'cq', 'cu', 'dl', 'el'],\n",
       " ['ac', 'bb', 'dj', 'du', 'dy', 'er', 'fl'],\n",
       " ['aw', 'ca', 'cl', 'cr', 'dd', 'de', 'ej'],\n",
       " ['ah', 'ak', 'ao', 'ba', 'cw', 'dk', 'dm'],\n",
       " ['bm', 'dx', 'en', 'fm'],\n",
       " ['bk', 'cc', 'cz', 'dp', 'fj'],\n",
       " ['cp', 'fc', 'ek'],\n",
       " ['am', 'bn', 'bs', 'by', 'ee', 'ev'],\n",
       " ['af', 'al', 'aq', 'bp', 'dt', 'ef', 'et'],\n",
       " ['bz', 'cd', 'ce', 'df', 'dz', 'eu', 'fk'],\n",
       " ['ad', 'ap', 'ar', 'ds', 'eq', 'fs', 'es'],\n",
       " ['ae', 'bf', 'bl', 'cy', 'fg', 'fh'],\n",
       " ['bc', 'bh', 'br', 'ed', 'ey', 'fd', 'fr'],\n",
       " ['as', 'da', 'dh', 'di', 'eb', 'ec', 'fa'],\n",
       " ['bt', 'bv', 'cs', 'dg', 'dr', 'dw', 'fo'],\n",
       " ['ag', 'au', 'cg', 'cj', 'ct', 'cv', 'dq'],\n",
       " ['aa', 'fq'],\n",
       " ['aj', 'ck', 'cm', 'db', 'dv', 'ex'],\n",
       " ['ay', 'bq', 'bw', 'ch', 'ci', 'co', 'dc'],\n",
       " ['ab', 'bj', 'dn', 'ep'],\n",
       " ['at', 'bu', 'cb', 'cx', 'eo', 'ff'],\n",
       " ['an', 'az', 'bi', 'bx', 'cf', 'cn', 'do'],\n",
       " ['ai', 'ax', 'bd', 'bg', 'eh', 'fp', 'eg'],\n",
       " ['av', 'ea', 'em', 'ew', 'ez', 'fi', 'fe'],\n",
       " ['fb', 'fn']]"
      ]
     },
     "execution_count": 68,
     "metadata": {},
     "output_type": "execute_result"
    }
   ],
   "source": [
    "[proj.staff for proj in PROJECTS]"
   ]
  }
 ],
 "metadata": {
  "kernelspec": {
   "display_name": "Python 3",
   "language": "python",
   "name": "python3"
  },
  "language_info": {
   "codemirror_mode": {
    "name": "ipython",
    "version": 3
   },
   "file_extension": ".py",
   "mimetype": "text/x-python",
   "name": "python",
   "nbconvert_exporter": "python",
   "pygments_lexer": "ipython3",
   "version": "3.6.6"
  }
 },
 "nbformat": 4,
 "nbformat_minor": 2
}
